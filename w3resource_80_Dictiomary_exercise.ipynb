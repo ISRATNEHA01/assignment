{
  "nbformat": 4,
  "nbformat_minor": 0,
  "metadata": {
    "colab": {
      "provenance": []
    },
    "kernelspec": {
      "name": "python3",
      "display_name": "Python 3"
    },
    "language_info": {
      "name": "python"
    }
  },
  "cells": [
    {
      "cell_type": "code",
      "execution_count": null,
      "metadata": {
        "colab": {
          "base_uri": "https://localhost:8080/"
        },
        "id": "U7g1WceWGZTZ",
        "outputId": "ac94f032-a28a-489a-d711-84096d97fba2"
      },
      "outputs": [
        {
          "output_type": "stream",
          "name": "stdout",
          "text": [
            "{0: 10, 1: 20, 2: 3}\n"
          ]
        }
      ],
      "source": [
        "#2\n",
        "dict_1={0: 10, 1: 20}\n",
        "dict_1[2]=3\n",
        "print(dict_1)"
      ]
    },
    {
      "cell_type": "markdown",
      "source": [
        "Write a Python script to sort (ascending and descending) a dictionary by value."
      ],
      "metadata": {
        "id": "DXOhW_H2hyYC"
      }
    },
    {
      "cell_type": "code",
      "source": [
        "#1\n",
        "box = {'cutter':3,'pen':4,'eraser':2}\n",
        "sort=sorted(box.values())\n",
        "print(sort)\n",
        "\n"
      ],
      "metadata": {
        "colab": {
          "base_uri": "https://localhost:8080/",
          "height": 131
        },
        "id": "v-0WrRysf88B",
        "outputId": "26564abf-6ad0-43b3-ce52-fa37fe574587"
      },
      "execution_count": null,
      "outputs": [
        {
          "output_type": "error",
          "ename": "SyntaxError",
          "evalue": "ignored",
          "traceback": [
            "\u001b[0;36m  File \u001b[0;32m\"<ipython-input-1-8068810b0f75>\"\u001b[0;36m, line \u001b[0;32m5\u001b[0m\n\u001b[0;31m    for value in box.values():\u001b[0m\n\u001b[0m                              ^\u001b[0m\n\u001b[0;31mSyntaxError\u001b[0m\u001b[0;31m:\u001b[0m unexpected EOF while parsing\n"
          ]
        }
      ]
    },
    {
      "cell_type": "code",
      "source": [
        "#3\n",
        "dic1={1:10, 2:20}\n",
        "dic2={3:30, 4:40}\n",
        "dic3={5:50,6:60}\n",
        "dic1.update(dic2)\n",
        "print(dic1)\n",
        "\n"
      ],
      "metadata": {
        "colab": {
          "base_uri": "https://localhost:8080/"
        },
        "id": "xFyyWbciIQL1",
        "outputId": "15072e3e-1ec6-4dd6-a1a0-bdc97356677c"
      },
      "execution_count": null,
      "outputs": [
        {
          "output_type": "stream",
          "name": "stdout",
          "text": [
            "{1: 10, 2: 20, 3: 30, 4: 40}\n"
          ]
        }
      ]
    },
    {
      "cell_type": "code",
      "source": [
        "#4\n",
        "dictionary={'a':1,'b':2,'c':3,'d':4}\n",
        "print(dictionary.get('e'))\n"
      ],
      "metadata": {
        "colab": {
          "base_uri": "https://localhost:8080/"
        },
        "id": "89JnkWiqKOew",
        "outputId": "a050974d-e5b0-425f-de43-a81ef69dfc23"
      },
      "execution_count": null,
      "outputs": [
        {
          "output_type": "stream",
          "name": "stdout",
          "text": [
            "None\n"
          ]
        }
      ]
    },
    {
      "cell_type": "code",
      "source": [
        "#5\n",
        "dictionary={1:2,2:4,3:5,4:6}\n",
        "for values in dictionary.items():\n",
        "  print(values)"
      ],
      "metadata": {
        "colab": {
          "base_uri": "https://localhost:8080/"
        },
        "id": "oWbLOShsLBXG",
        "outputId": "67c38912-3c0d-4c5d-f6c0-f95bcd3bf879"
      },
      "execution_count": null,
      "outputs": [
        {
          "output_type": "stream",
          "name": "stdout",
          "text": [
            "(1, 2)\n",
            "(2, 4)\n",
            "(3, 5)\n",
            "(4, 6)\n"
          ]
        }
      ]
    },
    {
      "cell_type": "code",
      "source": [
        "#6\n",
        "n=int(input(\"Input a number \"))\n",
        "d = {}\n",
        "\n",
        "for x in range(1,n+1):\n",
        "    d[x]=x*x\n",
        "\n",
        "print(d)"
      ],
      "metadata": {
        "colab": {
          "base_uri": "https://localhost:8080/"
        },
        "id": "yJVwNDb4Xfo4",
        "outputId": "7b0a4e98-db3d-4e4e-e3bb-4defea0a519b"
      },
      "execution_count": null,
      "outputs": [
        {
          "output_type": "stream",
          "name": "stdout",
          "text": [
            "Input a number 5\n",
            "{1: 1, 2: 4, 3: 9, 4: 16, 5: 25}\n"
          ]
        }
      ]
    },
    {
      "cell_type": "code",
      "source": [
        "#7\n",
        "d={}\n",
        "for x in range(1,16):\n",
        "  d[x]=x*x\n",
        "print(d)"
      ],
      "metadata": {
        "colab": {
          "base_uri": "https://localhost:8080/"
        },
        "id": "3gno6M-BXyGm",
        "outputId": "5bc489e6-959b-478e-a4f1-60786a4d1dbb"
      },
      "execution_count": null,
      "outputs": [
        {
          "output_type": "stream",
          "name": "stdout",
          "text": [
            "{1: 1, 2: 4, 3: 9, 4: 16, 5: 25, 6: 36, 7: 49, 8: 64, 9: 81, 10: 100, 11: 121, 12: 144, 13: 169, 14: 196, 15: 225}\n"
          ]
        }
      ]
    },
    {
      "cell_type": "code",
      "source": [
        "#8\n",
        "dict1={1:2,2:4,5:6,6:7}\n",
        "dict2={6:8,7:8}\n",
        "dict1.update(dict2)\n",
        "print(dict1)"
      ],
      "metadata": {
        "colab": {
          "base_uri": "https://localhost:8080/"
        },
        "id": "3S0ZYF3EYkPP",
        "outputId": "9b1176f3-9124-4fa5-f97c-9c439f69b8b3"
      },
      "execution_count": null,
      "outputs": [
        {
          "output_type": "stream",
          "name": "stdout",
          "text": [
            "{1: 2, 2: 4, 5: 6, 6: 8, 7: 8}\n"
          ]
        }
      ]
    },
    {
      "cell_type": "code",
      "source": [
        "#10\n",
        "my_dict = {'data1':100,'data2':-54,'data3':247}\n",
        "sum=0\n",
        "for i in my_dict.values():\n",
        "  sum+=i\n",
        "print(sum)\n"
      ],
      "metadata": {
        "colab": {
          "base_uri": "https://localhost:8080/"
        },
        "id": "KqUNIOsPZkFQ",
        "outputId": "a5d15c83-e3a8-4853-baf9-87adf527c981"
      },
      "execution_count": null,
      "outputs": [
        {
          "output_type": "stream",
          "name": "stdout",
          "text": [
            "293\n"
          ]
        }
      ]
    },
    {
      "cell_type": "code",
      "source": [
        "#11\n",
        "my_dict = {'data1':100,'data2':-54,'data3':247}\n",
        "multiple=1\n",
        "for i in my_dict.values():\n",
        "  multiple*=i\n",
        "print(multiple)\n",
        "\n"
      ],
      "metadata": {
        "colab": {
          "base_uri": "https://localhost:8080/"
        },
        "id": "GxDEvDnGatGL",
        "outputId": "14ddcf12-f7a6-4e48-bf8c-62ada9cea64b"
      },
      "execution_count": null,
      "outputs": [
        {
          "output_type": "stream",
          "name": "stdout",
          "text": [
            "-1333800\n"
          ]
        }
      ]
    },
    {
      "cell_type": "code",
      "source": [
        "#12\n",
        "myDict = {'a':1,'b':2,'c':3,'d':4}\n",
        "print(myDict)\n",
        "if 'a' in myDict:\n",
        "  del myDict['a']\n",
        "print(myDict)"
      ],
      "metadata": {
        "colab": {
          "base_uri": "https://localhost:8080/"
        },
        "id": "3YlnbNUwblf2",
        "outputId": "39b49658-4799-4e3f-a056-dfeddc397aea"
      },
      "execution_count": null,
      "outputs": [
        {
          "output_type": "stream",
          "name": "stdout",
          "text": [
            "{'a': 1, 'b': 2, 'c': 3, 'd': 4}\n",
            "{'b': 2, 'c': 3, 'd': 4}\n"
          ]
        }
      ]
    },
    {
      "cell_type": "markdown",
      "source": [
        " Write a Python program to map two lists into a dictionary"
      ],
      "metadata": {
        "id": "QKEzGNmEhhoY"
      }
    },
    {
      "cell_type": "code",
      "source": [
        "#13\n",
        "keys = ['red', 'green', 'blue']\n",
        "values = ['#FF0000','#008000', '#0000FF']"
      ],
      "metadata": {
        "colab": {
          "base_uri": "https://localhost:8080/"
        },
        "id": "wSdjazjmcNyJ",
        "outputId": "dc7049e8-2759-438c-e475-6d84f83d8fb3"
      },
      "execution_count": null,
      "outputs": [
        {
          "output_type": "stream",
          "name": "stdout",
          "text": [
            "{range(0, 6): 25}\n"
          ]
        }
      ]
    },
    {
      "cell_type": "markdown",
      "source": [
        " Write a Python program to sort a given dictionary by key."
      ],
      "metadata": {
        "id": "JmB1FveDiS59"
      }
    },
    {
      "cell_type": "code",
      "source": [
        "color_dict = {'red':'#FF0000',\n",
        "          'green':'#008000',\n",
        "          'black':'#000000',\n",
        "          'white':'#FFFFFF'}\n",
        "\n"
      ],
      "metadata": {
        "colab": {
          "base_uri": "https://localhost:8080/"
        },
        "id": "zASsGI24iAE_",
        "outputId": "5cece02b-6491-4358-b5a0-64ecb48ef55b"
      },
      "execution_count": null,
      "outputs": [
        {
          "output_type": "stream",
          "name": "stdout",
          "text": [
            "{'red': '#FF0000', 'green': '#008000', 'black': '#000000', 'white': '#FFFFFF'}\n"
          ]
        }
      ]
    },
    {
      "cell_type": "code",
      "source": [
        "#15\n",
        "my_dict = {'x':500, 'y':5874, 'z': 560}\n",
        "max=my_dict['x']\n",
        "for value in my_dict:\n",
        "   if max<my_dict[value]:\n",
        "      max=my_dict[value]\n",
        "print(max)\n",
        "\n",
        "min=my_dict['y']\n",
        "for value in my_dict:\n",
        "  if min>my_dict[value]:\n",
        "    min=my_dict[value]\n",
        "print(min)\n",
        "\n"
      ],
      "metadata": {
        "colab": {
          "base_uri": "https://localhost:8080/"
        },
        "id": "TsrKDdEdjxka",
        "outputId": "58dd8dde-99b1-4efb-b42f-12c35f4f2483"
      },
      "execution_count": null,
      "outputs": [
        {
          "output_type": "stream",
          "name": "stdout",
          "text": [
            "5874\n",
            "500\n"
          ]
        }
      ]
    },
    {
      "cell_type": "code",
      "source": [
        "#17\n",
        "student_data = {'id1':\n",
        "   {'name': ['Sara'],\n",
        "    'class': ['V'],\n",
        "    'subject_integration': ['english, math, science']\n",
        "   },\n",
        " 'id2':\n",
        "  {'name': ['David'],\n",
        "    'class': ['V'],\n",
        "    'subject_integration': ['english, math, science']\n",
        "   },\n",
        " 'id3':\n",
        "    {'name': ['Sara'],\n",
        "    'class': ['V'],\n",
        "    'subject_integration': ['english, math, science']\n",
        "   },\n",
        " 'id4':\n",
        "   {'name': ['Surya'],\n",
        "    'class': ['V'],\n",
        "    'subject_integration': ['english, math, science']\n",
        "   },\n",
        "}\n",
        "\n",
        "result = {}\n",
        "\n",
        "for key,value in student_data.items():\n",
        "    if value not in result.values():\n",
        "        result[key] = value\n",
        "\n",
        "print(result)"
      ],
      "metadata": {
        "colab": {
          "base_uri": "https://localhost:8080/"
        },
        "id": "R2uxnPmj6qgT",
        "outputId": "c31da0cb-00ec-473d-ed38-f834d2e8064f"
      },
      "execution_count": null,
      "outputs": [
        {
          "output_type": "stream",
          "name": "stdout",
          "text": [
            "{'id1': {'name': ['Sara'], 'class': ['V'], 'subject_integration': ['english, math, science']}, 'id2': {'name': ['David'], 'class': ['V'], 'subject_integration': ['english, math, science']}, 'id4': {'name': ['Surya'], 'class': ['V'], 'subject_integration': ['english, math, science']}}\n"
          ]
        }
      ]
    },
    {
      "cell_type": "code",
      "source": [
        "#18\n",
        "my_dict = {}\n",
        "if not bool(my_dict):\n",
        "  print('empty dictionary')"
      ],
      "metadata": {
        "colab": {
          "base_uri": "https://localhost:8080/"
        },
        "id": "7-bxbwQh8HPL",
        "outputId": "452b166d-ece6-4a6c-c5a8-49321dd74a87"
      },
      "execution_count": null,
      "outputs": [
        {
          "output_type": "stream",
          "name": "stdout",
          "text": [
            "empty dictionary\n"
          ]
        }
      ]
    },
    {
      "cell_type": "markdown",
      "source": [
        "Write a Python program to combine two dictionary adding values for common keys."
      ],
      "metadata": {
        "id": "18HL13i-_N39"
      }
    },
    {
      "cell_type": "code",
      "source": [
        "#19\n",
        "d1 = {'a': 100, 'b': 200, 'c':300}\n",
        "d2 = {'a': 300, 'b': 200, 'd':400}\n",
        "dict1={}\n"
      ],
      "metadata": {
        "colab": {
          "base_uri": "https://localhost:8080/",
          "height": 236
        },
        "id": "ACI7j-ra9Xar",
        "outputId": "c89e4cbb-494a-4e1e-dccd-468f2cb0dba1"
      },
      "execution_count": null,
      "outputs": [
        {
          "output_type": "error",
          "ename": "TypeError",
          "evalue": "ignored",
          "traceback": [
            "\u001b[0;31m---------------------------------------------------------------------------\u001b[0m",
            "\u001b[0;31mTypeError\u001b[0m                                 Traceback (most recent call last)",
            "\u001b[0;32m<ipython-input-13-c9549e2cf6ad>\u001b[0m in \u001b[0;36m<module>\u001b[0;34m()\u001b[0m\n\u001b[1;32m      3\u001b[0m \u001b[0md2\u001b[0m \u001b[0;34m=\u001b[0m \u001b[0;34m{\u001b[0m\u001b[0;34m'a'\u001b[0m\u001b[0;34m:\u001b[0m \u001b[0;36m300\u001b[0m\u001b[0;34m,\u001b[0m \u001b[0;34m'b'\u001b[0m\u001b[0;34m:\u001b[0m \u001b[0;36m200\u001b[0m\u001b[0;34m,\u001b[0m \u001b[0;34m'd'\u001b[0m\u001b[0;34m:\u001b[0m\u001b[0;36m400\u001b[0m\u001b[0;34m}\u001b[0m\u001b[0;34m\u001b[0m\u001b[0;34m\u001b[0m\u001b[0m\n\u001b[1;32m      4\u001b[0m \u001b[0mdict1\u001b[0m\u001b[0;34m=\u001b[0m\u001b[0;34m{\u001b[0m\u001b[0;34m}\u001b[0m\u001b[0;34m\u001b[0m\u001b[0;34m\u001b[0m\u001b[0m\n\u001b[0;32m----> 5\u001b[0;31m \u001b[0;32mfor\u001b[0m \u001b[0mi\u001b[0m \u001b[0;32min\u001b[0m \u001b[0md1\u001b[0m\u001b[0;34m.\u001b[0m\u001b[0mkeys\u001b[0m\u001b[0;34m(\u001b[0m\u001b[0;34m)\u001b[0m \u001b[0;32mand\u001b[0m \u001b[0md2\u001b[0m\u001b[0;34m.\u001b[0m\u001b[0mkeys\u001b[0m\u001b[0;34m:\u001b[0m\u001b[0;34m\u001b[0m\u001b[0;34m\u001b[0m\u001b[0m\n\u001b[0m\u001b[1;32m      6\u001b[0m   \u001b[0;32mif\u001b[0m \u001b[0mi\u001b[0m \u001b[0;32min\u001b[0m \u001b[0md1\u001b[0m\u001b[0;34m==\u001b[0m\u001b[0mi\u001b[0m \u001b[0;32min\u001b[0m \u001b[0md2\u001b[0m\u001b[0;34m:\u001b[0m\u001b[0;34m\u001b[0m\u001b[0;34m\u001b[0m\u001b[0m\n\u001b[1;32m      7\u001b[0m     \u001b[0mdict1\u001b[0m\u001b[0;34m[\u001b[0m\u001b[0mi\u001b[0m\u001b[0;34m]\u001b[0m\u001b[0;34m=\u001b[0m\u001b[0md1\u001b[0m\u001b[0;34m[\u001b[0m\u001b[0mi\u001b[0m\u001b[0;34m]\u001b[0m\u001b[0;34m+\u001b[0m\u001b[0md2\u001b[0m\u001b[0;34m[\u001b[0m\u001b[0mi\u001b[0m\u001b[0;34m]\u001b[0m\u001b[0;34m\u001b[0m\u001b[0;34m\u001b[0m\u001b[0m\n",
            "\u001b[0;31mTypeError\u001b[0m: 'builtin_function_or_method' object is not iterable"
          ]
        }
      ]
    },
    {
      "cell_type": "markdown",
      "source": [
        "Write a Python program to print all unique values in a dictionary."
      ],
      "metadata": {
        "id": "CL7jPCmiBD-P"
      }
    },
    {
      "cell_type": "code",
      "source": [
        "#20\n",
        "Sample Data=[{\"V\":\"S001\"}, {\"V\": \"S002\"}, {\"VI\": \"S001\"}, {\"VI\": \"S005\"}, {\"VII\":\"S005\"}, {\"V\":\"S009\"},{\"VIII\":\"S007\"}]"
      ],
      "metadata": {
        "id": "owHmksL9_W7d"
      },
      "execution_count": null,
      "outputs": []
    },
    {
      "cell_type": "markdown",
      "source": [
        " Write a Python program to create and display all combinations of letters, selecting each letter from a different key in a dictionary"
      ],
      "metadata": {
        "id": "lx8h2CD1Cq1n"
      }
    },
    {
      "cell_type": "code",
      "source": [
        "#21\n",
        "Sample_data={'1':['a','b'], '2':['c','d']}\n",
        "for j in Sample_data.values():\n",
        "\n",
        "\n",
        "\n",
        "\n",
        "\n",
        "\n"
      ],
      "metadata": {
        "id": "nCECgv87Cdqc",
        "colab": {
          "base_uri": "https://localhost:8080/"
        },
        "outputId": "2ad7a83b-67e0-4519-b9a5-4f0d496f6668"
      },
      "execution_count": null,
      "outputs": [
        {
          "output_type": "stream",
          "name": "stdout",
          "text": [
            "cd\n",
            "dd\n"
          ]
        }
      ]
    },
    {
      "cell_type": "code",
      "source": [
        "#22\n",
        "my_dict = {'a':500, 'b':5874, 'c': 560,'d':400, 'e':5874, 'f': 20}\n",
        "max=0\n",
        "for i,j in my_dict.items():\n",
        "  if j>max:\n",
        "    max=j\n",
        "    print(i)\n",
        "\n"
      ],
      "metadata": {
        "id": "Y3YH9fCbCu2q",
        "colab": {
          "base_uri": "https://localhost:8080/"
        },
        "outputId": "4fdda3ee-19f9-4372-e43c-c73fcb53c44f"
      },
      "execution_count": null,
      "outputs": [
        {
          "output_type": "stream",
          "name": "stdout",
          "text": [
            "a\n",
            "b\n"
          ]
        }
      ]
    }
  ]
}